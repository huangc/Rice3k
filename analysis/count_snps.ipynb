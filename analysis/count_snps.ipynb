{
 "cells": [
  {
   "cell_type": "code",
   "execution_count": 2,
   "metadata": {
    "collapsed": true
   },
   "outputs": [],
   "source": [
    "# we are going to count snps per gene\n",
    "\n",
    "%run ../scripts/gff3.py\n",
    "%run ../scripts/mapped.py"
   ]
  },
  {
   "cell_type": "code",
   "execution_count": 3,
   "metadata": {
    "collapsed": false
   },
   "outputs": [
    {
     "name": "stdout",
     "output_type": "stream",
     "text": [
      "parsing file : ../data/MSU7/all.chrs.gff3\n"
     ]
    }
   ],
   "source": [
    "mapdict = parse_map('../data/NB-core_v4/NB-core_v4.map.gz')\n",
    "genome = gff3_parser('../data/MSU7/all.chrs.gff3')"
   ]
  },
  {
   "cell_type": "code",
   "execution_count": 6,
   "metadata": {
    "collapsed": false
   },
   "outputs": [],
   "source": [
    "snps=[]\n",
    "for chno in genome :\n",
    "    chromosome = genome[chno]\n",
    "    for gene in chromosome.itervalues() :\n",
    "        snps.append(map_find_loci(mapdict, chno, gene['range']))\n",
    "\n",
    "snpcount = [len(i) for i in snps]"
   ]
  },
  {
   "cell_type": "code",
   "execution_count": 5,
   "metadata": {
    "collapsed": false
   },
   "outputs": [
    {
     "name": "stdout",
     "output_type": "stream",
     "text": [
      "snps per gene 7.83564810666\n",
      "37476 of 55801 genes have snps on them ( 0.671600867368 )\n",
      "considering only genes with snps...\n",
      "snps per gene  11.6671202903\n"
     ]
    }
   ],
   "source": [
    "print 'snps per gene', mean(snpcount)\n",
    "exist = nonzero (snpcount)[0]\n",
    "print len(exist), 'of', len(snpcount), 'genes have snps on them (',float(len(exist))/len(snpcount) ,')'\n",
    "print 'considering only genes with snps...' \n",
    "snppedgenes = [snpcount[i] for i in exist]\n",
    "print 'snps per gene ', mean(snppedgenes)\n"
   ]
  }
 ],
 "metadata": {
  "kernelspec": {
   "display_name": "Python 2",
   "language": "python2",
   "name": "python2"
  },
  "language_info": {
   "codemirror_mode": {
    "name": "ipython",
    "version": 2
   },
   "file_extension": ".py",
   "mimetype": "text/x-python",
   "name": "python",
   "nbconvert_exporter": "python",
   "pygments_lexer": "ipython2",
   "version": "2.7.11"
  }
 },
 "nbformat": 4,
 "nbformat_minor": 0
}
