{
 "cells": [
  {
   "cell_type": "code",
   "execution_count": 4,
   "metadata": {
    "collapsed": true
   },
   "outputs": [],
   "source": [
    "# we are going to count snps per gene\n",
    "\n",
    "%run ../scripts/gff3.py\n",
    "%run ../scripts/mapped.py\n"
   ]
  },
  {
   "cell_type": "code",
   "execution_count": 5,
   "metadata": {
    "collapsed": false
   },
   "outputs": [
    {
     "name": "stdout",
     "output_type": "stream",
     "text": [
      "parsing file : ../data/MSU7/all.chrs.gff3\n"
     ]
    }
   ],
   "source": [
    "mapdict = parse_map('../data/NB-core_v4/NB-core_v4.map.gz')\n",
    "genome = gff3_parser('../data/MSU7/all.chrs.gff3')"
   ]
  },
  {
   "cell_type": "code",
   "execution_count": 9,
   "metadata": {
    "collapsed": false
   },
   "outputs": [],
   "source": [
    "import re\n",
    "snps=[]\n",
    "for ch in genome :\n",
    "    chromosome = genome[ch]\n",
    "    #note this is a terrible fix\n",
    "    sid=int(re.findall('\\d', ch)[0])\n",
    "    for gene in chromosome.itervalues() :\n",
    "        snps.append(map_find_loci(mapdict, sid, gene['range']))\n",
    "\n",
    "snpcount = [len(i) for i in snps]"
   ]
  },
  {
   "cell_type": "code",
   "execution_count": 32,
   "metadata": {
    "collapsed": false
   },
   "outputs": [
    {
     "name": "stdout",
     "output_type": "stream",
     "text": [
      "snps per gene 7.27377645562\n",
      "37682 of 55801 genes have snps on them ( 0.675292557481 )\n",
      "considering only genes with snps...\n",
      "snps per gene  10.7712966403\n"
     ]
    }
   ],
   "source": [
    "print 'snps per gene', mean(snpcount)\n",
    "exist = nonzero (snpcount)[0]\n",
    "print len(exist), 'of', len(snpcount), 'genes have snps on them (',float(len(exist))/len(snpcount) ,')'\n",
    "print 'considering only genes with snps...' \n",
    "snppedgenes = [snpcount[i] for i in exist]\n",
    "print 'snps per gene ', mean(snppedgenes)\n"
   ]
  }
 ],
 "metadata": {
  "kernelspec": {
   "display_name": "Python 2",
   "language": "python2",
   "name": "python2"
  },
  "language_info": {
   "codemirror_mode": {
    "name": "ipython",
    "version": 2
   },
   "file_extension": ".py",
   "mimetype": "text/x-python",
   "name": "python",
   "nbconvert_exporter": "python",
   "pygments_lexer": "ipython2",
   "version": "2.7.11"
  }
 },
 "nbformat": 4,
 "nbformat_minor": 0
}
