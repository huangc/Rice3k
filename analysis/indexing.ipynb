{
 "cells": [
  {
   "cell_type": "code",
   "execution_count": 1,
   "metadata": {
    "collapsed": false
   },
   "outputs": [],
   "source": [
    "# indexing validation\n",
    "# MAP and gff3 indexes from 1 and iclusive like [a,b]\n",
    "# (Bio)python indexes genomes from 0 and open ended like [a,b)\n",
    "# so [a,b] in MAP/gff3 is equal to [a-1:b) in python"
   ]
  },
  {
   "cell_type": "code",
   "execution_count": 2,
   "metadata": {
    "collapsed": false
   },
   "outputs": [
    {
     "name": "stdout",
     "output_type": "stream",
     "text": [
      "[10, 11, 12, 13, 14, 15, 16, 17, 18, 19, 20]\n"
     ]
    }
   ],
   "source": [
    "# i have a genome , indexed by python and has the MAP indexes as values\n",
    "genome = range(1,101)\n",
    "\n",
    "# say i have a gene in [a,b] as indexed by MAP\n",
    "a,b = 10,20\n",
    "\n",
    "# the gene is actually at genome[a-1:b]\n",
    "gene = genome [a-1:b]\n",
    "print gene\n"
   ]
  },
  {
   "cell_type": "code",
   "execution_count": 5,
   "metadata": {
    "collapsed": false
   },
   "outputs": [
    {
     "name": "stdout",
     "output_type": "stream",
     "text": [
      "15\n",
      "15\n"
     ]
    }
   ],
   "source": [
    "# say I have a SNP at c \n",
    "c = 15 \n",
    "# which is to say it is at genome[c-1]\n",
    "print genome[c-1]\n",
    "\n",
    "# this SNP is also at gene[c-a]\n",
    "print gene[c-a]"
   ]
  }
 ],
 "metadata": {
  "kernelspec": {
   "display_name": "Python 2",
   "language": "python2",
   "name": "python2"
  },
  "language_info": {
   "codemirror_mode": {
    "name": "ipython",
    "version": 2
   },
   "file_extension": ".py",
   "mimetype": "text/x-python",
   "name": "python",
   "nbconvert_exporter": "python",
   "pygments_lexer": "ipython2",
   "version": "2.7.11"
  }
 },
 "nbformat": 4,
 "nbformat_minor": 0
}
