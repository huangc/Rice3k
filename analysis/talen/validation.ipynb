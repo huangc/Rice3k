{
 "cells": [
  {
   "cell_type": "code",
   "execution_count": 1,
   "metadata": {
    "collapsed": true
   },
   "outputs": [],
   "source": [
    "%pylab \n",
    "import gzip "
   ]
  },
  {
   "cell_type": "code",
   "execution_count": 3,
   "metadata": {
    "collapsed": false
   },
   "outputs": [],
   "source": [
    "def multidim_intersect(arr1, arr2):\n",
    "    arr1_view = arr1.view([('',arr1.dtype)]*arr1.shape[1])\n",
    "    arr2_view = arr2.view([('',arr2.dtype)]*arr2.shape[1])\n",
    "    intersected = intersect1d(arr1_view, arr2_view)\n",
    "    return intersected.view(arr1.dtype).reshape(-1, arr1.shape[1])"
   ]
  },
  {
   "cell_type": "code",
   "execution_count": 7,
   "metadata": {
    "collapsed": false
   },
   "outputs": [],
   "source": [
    "def find_indices(small, big) :\n",
    "    index=[]\n",
    "    j=0\n",
    "    i=0\n",
    "\n",
    "    while i <len(small)  :\n",
    "        while (big[j] < small[i]).any() and j< len(big)-1 :\n",
    "            j+=1\n",
    "    \n",
    "        if (small[i] == big[j]).all():\n",
    "            index.append(j)\n",
    "        i += 1\n",
    "    return index\n",
    "\n"
   ]
  },
  {
   "cell_type": "code",
   "execution_count": 49,
   "metadata": {
    "collapsed": false
   },
   "outputs": [],
   "source": [
    "def ped_iterator(pedfname, index, refindex, ref) :\n",
    "    f = gzip.open(pedfname, 'r')\n",
    "    for line in f :\n",
    "        snpseq=''\n",
    "        tmp = line.strip().split(' ')\n",
    "        for i in range(len(index)) :\n",
    "            j=index[i]\n",
    "            alelle1 = tmp[6+2*j]\n",
    "            alelle2 = tmp[7+2*j]\n",
    "            if alelle1 == alelle2 :\n",
    "                snpseq += alelle1 \n",
    "            else :\n",
    "                snpseq += ref[refindex[i]]\n",
    "        yield tmp[0], snpseq"
   ]
  },
  {
   "cell_type": "code",
   "execution_count": 24,
   "metadata": {
    "collapsed": false
   },
   "outputs": [],
   "source": [
    "def ped_iterator(pedfname, index) :#, refindex, ref) :\n",
    "    f = gzip.open(pedfname, 'r')\n",
    "    for line in f :\n",
    "        snpseq=''\n",
    "        tmp = line.strip().split(' ')\n",
    "        for i in index :\n",
    "            alelle1 = tmp[6+2*i]\n",
    "            alelle2 = tmp[7+2*i]\n",
    "            if alelle1 == alelle2 :\n",
    "                snpseq += alelle1 \n",
    "            else :\n",
    "                snpseq += ' '\n",
    "        yield tmp[0], snpseq"
   ]
  },
  {
   "cell_type": "code",
   "execution_count": 24,
   "metadata": {
    "collapsed": false
   },
   "outputs": [],
   "source": [
    "def ped_iterator(pedfname, index) :#, refindex, ref) :\n",
    "    f = gzip.open(pedfname, 'r')\n",
    "    for line in f :\n",
    "        snpseq=''\n",
    "        tmp = line.strip().split(' ')\n",
    "        for i in index :\n",
    "            alelle1 = tmp[6+2*i]\n",
    "            alelle2 = tmp[7+2*i]\n",
    "            if alelle1 == alelle2 :\n",
    "                snpseq += alelle1 \n",
    "            else :\n",
    "                snpseq += ' '\n",
    "        yield tmp[0], snpseq"
   ]
  },
  {
   "cell_type": "code",
   "execution_count": 40,
   "metadata": {
    "collapsed": false
   },
   "outputs": [],
   "source": [
    "def hamdist(str1, str2):       \n",
    "    diffs = 0\n",
    "    print len(str1) == len(str2)\n",
    "    for ch1, ch2 in zip(str1, str2):\n",
    "        if ch1 != ch2:\n",
    "            diffs += 1\n",
    "    return diffs"
   ]
  },
  {
   "cell_type": "code",
   "execution_count": 46,
   "metadata": {
    "collapsed": true
   },
   "outputs": [],
   "source": [
    "from itertools import imap\n",
    "import operator\n",
    "def hamming2(str1, str2):\n",
    "    assert len(str1) == len(str2)\n",
    "    #ne = str.__ne__  ## this is surprisingly slow\n",
    "    ne = operator.ne\n",
    "    return sum(imap(ne, str1, str2))"
   ]
  },
  {
   "cell_type": "code",
   "execution_count": 35,
   "metadata": {
    "collapsed": false
   },
   "outputs": [],
   "source": [
    "fname = 'ZHENGSHAN97.dat'\n",
    "unknown = loadtxt(fname, usecols=[0,1], dtype = int)\n",
    "unknownBase = loadtxt(fname, usecols=[3], dtype = str)\n",
    "reference = loadtxt(fname, usecols=[2], dtype = str)\n",
    "mapfile = loadtxt ('../NB-core_v4/NB-core_v4.map', dtype=int, usecols=(0,3))"
   ]
  },
  {
   "cell_type": "code",
   "execution_count": 36,
   "metadata": {
    "collapsed": false
   },
   "outputs": [
    {
     "name": "stdout",
     "output_type": "stream",
     "text": [
      "35105 996009 6294 6294 6294\n"
     ]
    }
   ],
   "source": [
    "intersect = multidim_intersect(unknown,mapfile)\n",
    "mapindex = find_indices(intersect, mapfile)\n",
    "unknownindex = find_indices(intersect, unknown)\n",
    "print len(unknown), len(mapfile), len(intersect),  len(unknownindex), len(mapindex)"
   ]
  },
  {
   "cell_type": "code",
   "execution_count": 37,
   "metadata": {
    "collapsed": false
   },
   "outputs": [],
   "source": [
    "unknownseq=''\n",
    "for i in unknownindex :\n",
    "    unknownseq+=unknownBase[i]"
   ]
  },
  {
   "cell_type": "code",
   "execution_count": 50,
   "metadata": {
    "collapsed": false
   },
   "outputs": [
    {
     "name": "stdout",
     "output_type": "stream",
     "text": [
      "<itertools.imap object at 0x7f4029692250> <itertools.imap object at 0x7f404753f090>\n",
      "11 B012\n"
     ]
    }
   ],
   "source": [
    "name=[]\n",
    "dist=[]\n",
    "for cultivar in ped_iterator('../NB-core_v4/NB-core_v4.ped.gz', mapindex, unknownindex, reference) :\n",
    "    name.append(cultivar[0])\n",
    "    dist.append(hamming2(unknownseq, cultivar[1]))\n",
    "\n",
    "print min(dist), max(dist)\n",
    "print argmin(dist), name[argmin(dist)]"
   ]
  },
  {
   "cell_type": "code",
   "execution_count": 27,
   "metadata": {
    "collapsed": false
   },
   "outputs": [],
   "source": [
    "dist=[]\n",
    "for i in range (len (cultivars)) :\n",
    "    dist.append(hamdist(unknownseq, cultivars[i][1]))"
   ]
  },
  {
   "cell_type": "code",
   "execution_count": 30,
   "metadata": {
    "collapsed": false
   },
   "outputs": [
    {
     "name": "stdout",
     "output_type": "stream",
     "text": [
      "110707 195935\n",
      "367 CX134\n"
     ]
    }
   ],
   "source": []
  },
  {
   "cell_type": "code",
   "execution_count": 32,
   "metadata": {
    "collapsed": false
   },
   "outputs": [
    {
     "name": "stdout",
     "output_type": "stream",
     "text": [
      "3054598 996009 202456 202456 202456\n",
      "DV86.dat 161214 182876 1331 IRIS_313-10096\n",
      "2638188 996009 177616 177616 177616\n",
      "Minghui63.dat 134424 164431 375 CX145\n",
      "2790280 996009 192406 192406 192406\n",
      "ZHENGSHAN97.dat 141897 178161 366 CX133\n",
      "2841874 996009 197005 197005 197005\n",
      "IRBB7.dat 110707 195935 367 CX134\n"
     ]
    }
   ],
   "source": [
    "fnames = ['DV86.dat','Minghui63.dat' ,'ZHENGSHAN97.dat','IRBB7.dat']\n",
    "mapfile = loadtxt ('../NB-core_v4/NB-core_v4.map', dtype=int, usecols=(0,3))\n",
    "\n",
    "for fname in fnames :\n",
    "    unknown = loadtxt(fname, usecols=[0,1], dtype = int)\n",
    "    unknownBase = loadtxt(fname, usecols=[3], dtype = str)\n",
    "    reference = loadtxt(fname, usecols=[2], dtype = str)\n",
    "    \n",
    "    intersect = multidim_intersect(unknown,mapfile)\n",
    "    mapindex = find_indices(intersect, mapfile)\n",
    "    unknownindex = find_indices(intersect, unknown)\n",
    "    print len(unknown), len(mapfile), len(intersect),  len(unknownindex), len(mapindex)\n",
    "    \n",
    "    unknownseq=''\n",
    "    for i in unknownindex :\n",
    "        unknownseq+=unknownBase[i]\n",
    "    \n",
    "    name=[]\n",
    "    dist=[]\n",
    "    for cultivar in ped_iterator('../NB-core_v4/NB-core_v4.ped.gz', mapindex) :\n",
    "        name.append(cultivar[0])\n",
    "        dist.append(hamdist(unknownseq, cultivar[1]))\n",
    "\n",
    "    print fname, min(dist), max(dist), argmin(dist), name[argmin(dist)]\n",
    "    "
   ]
  },
  {
   "cell_type": "code",
   "execution_count": 33,
   "metadata": {
    "collapsed": false
   },
   "outputs": [
    {
     "name": "stdout",
     "output_type": "stream",
     "text": [
      "35105 996009 6294 6294 6294\n",
      "YB1.dat 5051 5985 529 CX402\n",
      "357532 996009 37073 37073 37073\n",
      "YB2.dat 25003 36227 168 B182\n",
      "356085 996009 37248 37248 37248\n",
      "YB3.dat 28244 33224 741 IRIS_313-8204\n",
      "360255 996009 37775 37775 37775\n",
      "YB4.dat 25645 36919 168 B182\n"
     ]
    }
   ],
   "source": [
    "fnames = ['YB1.dat','YB2.dat' ,'YB3.dat','YB4.dat']\n",
    "mapfile = loadtxt ('../NB-core_v4/NB-core_v4.map', dtype=int, usecols=(0,3))\n",
    "\n",
    "for fname in fnames :\n",
    "    unknown = loadtxt(fname, usecols=[0,1], dtype = int)\n",
    "    unknownBase = loadtxt(fname, usecols=[3], dtype = str)\n",
    "    reference = loadtxt(fname, usecols=[2], dtype = str)\n",
    "    \n",
    "    intersect = multidim_intersect(unknown,mapfile)\n",
    "    mapindex = find_indices(intersect, mapfile)\n",
    "    unknownindex = find_indices(intersect, unknown)\n",
    "    print len(unknown), len(mapfile), len(intersect),  len(unknownindex), len(mapindex)\n",
    "    \n",
    "    unknownseq=''\n",
    "    for i in unknownindex :\n",
    "        unknownseq+=unknownBase[i]\n",
    "    \n",
    "    name=[]\n",
    "    dist=[]\n",
    "    for cultivar in ped_iterator('../NB-core_v4/NB-core_v4.ped.gz', mapindex) :\n",
    "        name.append(cultivar[0])\n",
    "        dist.append(hamdist(unknownseq, cultivar[1]))\n",
    "\n",
    "    print fname, min(dist), max(dist), argmin(dist), name[argmin(dist)]\n",
    "    "
   ]
  }
 ],
 "metadata": {
  "kernelspec": {
   "display_name": "Python 2",
   "language": "python2",
   "name": "python2"
  },
  "language_info": {
   "codemirror_mode": {
    "name": "ipython",
    "version": 2
   },
   "file_extension": ".py",
   "mimetype": "text/x-python",
   "name": "python",
   "nbconvert_exporter": "python",
   "pygments_lexer": "ipython2",
   "version": "2.7.11"
  }
 },
 "nbformat": 4,
 "nbformat_minor": 0
}
