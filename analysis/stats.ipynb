{
 "cells": [
  {
   "cell_type": "code",
   "execution_count": 1,
   "metadata": {
    "collapsed": false
   },
   "outputs": [
    {
     "name": "stdout",
     "output_type": "stream",
     "text": [
      "Using matplotlib backend: Qt5Agg\n",
      "Populating the interactive namespace from numpy and matplotlib\n"
     ]
    }
   ],
   "source": [
    "%pylab"
   ]
  },
  {
   "cell_type": "code",
   "execution_count": 3,
   "metadata": {
    "collapsed": false
   },
   "outputs": [
    {
     "name": "stdout",
     "output_type": "stream",
     "text": [
      "Chr1 43270923\n",
      "Chr2 35937250\n",
      "Chr3 36413819\n",
      "Chr4 35502694\n",
      "Chr5 29958434\n",
      "Chr6 31248787\n",
      "Chr7 29697621\n",
      "Chr8 28443022\n",
      "Chr9 23012720\n",
      "Chr10 23207287\n",
      "Chr11 29021106\n",
      "Chr12 27531856\n"
     ]
    }
   ],
   "source": [
    "# get size of chromosomes\n",
    "\n",
    "from Bio import SeqIO\n",
    "chromsize={}\n",
    "genomesize=0\n",
    "for chrom in SeqIO.parse('../data/MSU7/all.chrs.con', 'fasta') :\n",
    "    print chrom.description, len(chrom.seq)\n",
    "    chromsize[chrom.description]=len(chrom.seq)\n",
    "    genomesize+=len(chrom.seq)"
   ]
  },
  {
   "cell_type": "code",
   "execution_count": 8,
   "metadata": {
    "collapsed": false
   },
   "outputs": [
    {
     "name": "stdout",
     "output_type": "stream",
     "text": [
      "parsing file : ../data/MSU7/all.chrs.gff3\n"
     ]
    }
   ],
   "source": [
    "# load annotation data\n",
    "\n",
    "%run ../scripts/gff3.py\n",
    "\n",
    "gff = gff3_parser('../data/MSU7/all.chrs.gff3')\n",
    "\n"
   ]
  },
  {
   "cell_type": "code",
   "execution_count": 9,
   "metadata": {
    "collapsed": false
   },
   "outputs": [],
   "source": [
    "# load SNP MAP file\n",
    "\n",
    "snps = loadtxt('../data/NB-core_v4/NB-core_v4.map', usecols=[0], dtype=int)"
   ]
  },
  {
   "cell_type": "code",
   "execution_count": 10,
   "metadata": {
    "collapsed": false
   },
   "outputs": [
    {
     "name": "stdout",
     "output_type": "stream",
     "text": [
      "1 90804\n",
      "2 84248\n",
      "3 74582\n",
      "4 98579\n",
      "5 82672\n",
      "6 81926\n",
      "7 79933\n",
      "8 90302\n",
      "9 62668\n",
      "10 73685\n",
      "11 100070\n",
      "12 76540\n",
      "996009 996009\n"
     ]
    }
   ],
   "source": [
    "#count snps per chromosome\n",
    "\n",
    "snpcount={}\n",
    "total =0\n",
    "for i in range (1,13) :\n",
    "    count = 0 \n",
    "    for snpchr in snps :\n",
    "        if snpchr == i :\n",
    "            count +=1\n",
    "    print i, count\n",
    "    snpcount['Chr'+str(i)]=count\n",
    "    total+=count\n",
    "\n",
    "print len(snps), total"
   ]
  },
  {
   "cell_type": "code",
   "execution_count": 11,
   "metadata": {
    "collapsed": false
   },
   "outputs": [
    {
     "name": "stdout",
     "output_type": "stream",
     "text": [
      "       size   gene prot snps\n",
      "Chr1 43270923 6529 8023 90804 13.9077959871\n",
      "Chr2 35937250 5377 6656 84248 15.6682164776\n",
      "Chr3 36413819 5568 7022 74582 13.3947557471\n",
      "Chr4 35502694 5317 6179 98579 18.5403422983\n",
      "Chr5 29958434 4572 5485 82672 18.08223972\n",
      "Chr6 31248787 4709 5467 81926 17.3977489913\n",
      "Chr7 29697621 4450 5185 79933 17.9624719101\n",
      "Chr8 28443022 4188 4866 90302 21.5620821394\n",
      "Chr9 23012720 3407 3928 62668 18.3938949222\n",
      "Chr10 23207287 3510 4067 73685 20.9928774929\n",
      "Chr11 29021106 4160 4695 100070 24.0552884615\n",
      "Chr12 27531856 4014 4580 76540 19.0682610862\n",
      "total 373245519 55801 66153 996009 17.8493037759\n"
     ]
    }
   ],
   "source": [
    "# count genes and proteins in each chromosome\n",
    "\n",
    "chromosomes = ['Chr'+str(i)for i in range(1,13)]\n",
    "totalgenes = 0\n",
    "totalproteins = 0\n",
    "print '       size   gene prot snps'\n",
    "for ch in chromosomes :\n",
    "    genecount = len(gff[ch])\n",
    "    proteins =0\n",
    "    for gene in gff[ch].values() :\n",
    "        proteins += len(gene['mRNA'])\n",
    "    print ch, chromsize[ch], genecount, proteins, snpcount[ch], float(snpcount[ch])/genecount\n",
    "    totalgenes +=genecount\n",
    "    totalproteins += proteins\n",
    "print 'total', genomesize, totalgenes, totalproteins, len(snps), float(len(snps))/totalgenes"
   ]
  }
 ],
 "metadata": {
  "kernelspec": {
   "display_name": "Python 2",
   "language": "python2",
   "name": "python2"
  },
  "language_info": {
   "codemirror_mode": {
    "name": "ipython",
    "version": 2
   },
   "file_extension": ".py",
   "mimetype": "text/x-python",
   "name": "python",
   "nbconvert_exporter": "python",
   "pygments_lexer": "ipython2",
   "version": "2.7.11"
  }
 },
 "nbformat": 4,
 "nbformat_minor": 0
}
