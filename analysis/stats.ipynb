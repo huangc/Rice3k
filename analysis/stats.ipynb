{
 "cells": [
  {
   "cell_type": "markdown",
   "metadata": {},
   "source": [
    "Some general statistics on the nipponbare reference genome\n",
    "* by chromosome \n",
    "    * size (nbases)\n",
    "    * gene count\n",
    "    * snp count\n",
    "    * snps per gene"
   ]
  },
  {
   "cell_type": "code",
   "execution_count": 10,
   "metadata": {
    "collapsed": false
   },
   "outputs": [
    {
     "name": "stdout",
     "output_type": "stream",
     "text": [
      "Populating the interactive namespace from numpy and matplotlib\n"
     ]
    }
   ],
   "source": [
    "# set-up\n",
    "%pylab inline\n",
    "from sys import path\n",
    "path.append('../scripts/')\n",
    "from genome import genome"
   ]
  },
  {
   "cell_type": "code",
   "execution_count": 21,
   "metadata": {
    "collapsed": false
   },
   "outputs": [
    {
     "name": "stdout",
     "output_type": "stream",
     "text": [
      "# Parsing annotation file : ../data/MSU7/all.chrs.gff3\n",
      "# Parsing sequence file : ../data/MSU7/all.chrs.con\n",
      "# Extracting sequences for genes...\n",
      "# Parsing MAP file : ../data/NB-core_v4/filtered.map.gz\n",
      "# Mapping snps to genes...\n"
     ]
    }
   ],
   "source": [
    "#load genome\n",
    "gff3File = '../data/MSU7/all.chrs.gff3'\n",
    "fastaFile = '../data/MSU7/all.chrs.con'\n",
    "mapFile = '../data/NB-core_v4/filtered.map.gz'\n",
    "pedFile = '../data/NB-core_v4/filtered.ped.gz'\n",
    "\n",
    "nippon = genome(gff3File, fastaFile, mapFile )"
   ]
  },
  {
   "cell_type": "code",
   "execution_count": 25,
   "metadata": {
    "collapsed": false
   },
   "outputs": [
    {
     "name": "stdout",
     "output_type": "stream",
     "text": [
      "[6530, 5378, 5569, 5318, 4573, 4710, 4451, 4189, 3408, 3511, 4161, 4015] 55813\n"
     ]
    }
   ],
   "source": [
    "# get size of chromosomes\n",
    "from Bio import SeqIO\n",
    "chromsize = [ len(chrom.seq) for chrom in SeqIO.parse(fastaFile, 'fasta')]\n",
    "\n",
    "# count snps per chromosome\n",
    "snpchr = loadtxt(mapFile, usecols=[0], dtype=int)\n",
    "snpcount = [sum(snpchr== i ) for i in range(1,13)]\n",
    "\n",
    "# count genes per chromosome\n",
    "genecount = [len(nippon[i]) for i in range(1,13)]\n"
   ]
  },
  {
   "cell_type": "code",
   "execution_count": 37,
   "metadata": {
    "collapsed": false
   },
   "outputs": [
    {
     "name": "stdout",
     "output_type": "stream",
     "text": [
      "chr\tlength\t\tgenes\tsnps\tsnps/gene\n",
      "1\t43270923\t6530\t20840\t3.19142419602\n",
      "2\t35937250\t5378\t19241\t3.57772406099\n",
      "3\t36413819\t5569\t18283\t3.28299515173\n",
      "4\t35502694\t5318\t27537\t5.17807446408\n",
      "5\t29958434\t4573\t24908\t5.44675267877\n",
      "6\t31248787\t4710\t22624\t4.8033970276\n",
      "7\t29697621\t4451\t22139\t4.9739384408\n",
      "8\t28443022\t4189\t25040\t5.97756027692\n",
      "9\t23012720\t3408\t17395\t5.10416666667\n",
      "10\t23207287\t3511\t23032\t6.55995442894\n",
      "11\t29021106\t4161\t26593\t6.39101177602\n",
      "12\t27531856\t4015\t20546\t5.11731008717\n"
     ]
    }
   ],
   "source": [
    "print 'chr\\tlength\\t\\tgenes\\tsnps\\tsnps/gene'\n",
    "for i in range(12) :\n",
    "    print '{}\\t{}\\t{}\\t{}\\t{}'.format(i+1,chromsize[i],genecount[i],snpcount[i], \\\n",
    "                                      float(snpcount[i])/genecount[i])"
   ]
  },
  {
   "cell_type": "code",
   "execution_count": 40,
   "metadata": {
    "collapsed": false
   },
   "outputs": [
    {
     "name": "stdout",
     "output_type": "stream",
     "text": [
      "# Parsing PED file : ../data/NB-core_v4/filtered.ped.gz\n"
     ]
    }
   ],
   "source": [
    "from parsers import ped_stats\n",
    "pedFile = '../data/NB-core_v4/filtered.ped.gz'\n",
    "pedst = ped_stats(pedFile)"
   ]
  },
  {
   "cell_type": "code",
   "execution_count": 43,
   "metadata": {
    "collapsed": false
   },
   "outputs": [
    {
     "name": "stdout",
     "output_type": "stream",
     "text": [
      "ratio of homozygous snps : 0.79081024182\n"
     ]
    }
   ],
   "source": [
    "homolist = [s[0] for s in pedst.itervalues()]\n",
    "hetelist = [s[1] for s in pedst.itervalues()]\n",
    "misslist = [s[2] for s in pedst.itervalues()]\n",
    "\n",
    "nhomo = sum(homolist)\n",
    "nhete = sum(hetelist)\n",
    "nmiss = sum(misslist)\n",
    "\n",
    "print 'ratio of homozygous snps :',float(nhomo)/(nhomo+nhete+nmiss)"
   ]
  },
  {
   "cell_type": "code",
   "execution_count": 54,
   "metadata": {
    "collapsed": false
   },
   "outputs": [
    {
     "data": {
      "image/png": "[encoded data removed]",
      "text/plain": [
       "<matplotlib.figure.Figure at 0x7f09798f2590>"
      ]
     },
     "metadata": {},
     "output_type": "display_data"
    }
   ],
   "source": [
    "h1=hist(homolist, bins=100)\n",
    "ylabel('#cultivars')\n",
    "xlabel('#of homozygous snps');"
   ]
  },
  {
   "cell_type": "code",
   "execution_count": null,
   "metadata": {
    "collapsed": true
   },
   "outputs": [],
   "source": []
  }
 ],
 "metadata": {
  "kernelspec": {
   "display_name": "Python 2",
   "language": "python2",
   "name": "python2"
  }
 },
 "nbformat": 4,
 "nbformat_minor": 0
}
